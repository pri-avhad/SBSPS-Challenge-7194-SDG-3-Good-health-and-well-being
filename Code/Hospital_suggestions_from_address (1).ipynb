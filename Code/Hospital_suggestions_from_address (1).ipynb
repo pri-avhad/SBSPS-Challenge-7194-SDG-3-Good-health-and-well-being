{
  "nbformat": 4,
  "nbformat_minor": 0,
  "metadata": {
    "colab": {
      "name": "Hospital_suggestions_from_address.ipynb",
      "provenance": [],
      "collapsed_sections": []
    },
    "kernelspec": {
      "name": "python3",
      "display_name": "Python 3"
    },
    "language_info": {
      "name": "python"
    }
  },
  "cells": [
    {
      "cell_type": "code",
      "metadata": {
        "colab": {
          "base_uri": "https://localhost:8080/"
        },
        "id": "elVN-Yco_vzD",
        "outputId": "431ace13-d51d-4b50-fced-e47a831295a6"
      },
      "source": [
        "import requests\n",
        "from requests.structures import CaseInsensitiveDict\n",
        "\n",
        "userloc = \"gangadham pune india 411037\" #input\n",
        "\n",
        "#getting user's latitude and longitude\n",
        "geolocaurl = \"http://api.positionstack.com/v1/forward\"\n",
        "key = \"\" #enter your key\n",
        "r = requests.get(url = geolocaurl, params={'access_key': key, \"query\" : userloc}).json()\n",
        "d = dict(r['data'][0])\n",
        "userlat = d['latitude']\n",
        "userlong = d['longitude']\n",
        "\n",
        "#making token and then getting nearby suggestions for hospital (cancer)\n",
        "tokenurl = \"https://outpost.mapmyindia.com/api/security/oauth/token\"\n",
        "tokenurldata = {\n",
        "  \"grant_type\": \"client_credentials\",\n",
        "  \"client_id\": \"\", #enter your credentials\n",
        "  \"client_secret\": \"\" #enter your credentials\n",
        "}\n",
        "r = requests.post(url = tokenurl, data = tokenurldata).json()\n",
        "token = r['access_token']\n",
        "headers = CaseInsensitiveDict()\n",
        "headers[\"Accept\"] = \"application/json\"\n",
        "headers[\"Authorization\"] = \"Bearer \" + token\n",
        "nearbyurl = \"https://atlas.mapmyindia.com/api/places/nearby/json?keywords=cancer;hospital&refLocation=\" + str(userlat) + \"%2C\" + str(userlong)\n",
        "r = requests.get(url = nearbyurl, headers=headers).json()\n",
        "\n",
        "#output all suggestions\n",
        "d = dict(r['suggestedLocations'][0])\n",
        "for i in r['suggestedLocations']:\n",
        "    d = dict(i)\n",
        "    print(d['placeName'] + \" : \" + d['placeAddress'])"
      ],
      "execution_count": null,
      "outputs": [
        {
          "output_type": "stream",
          "name": "stdout",
          "text": [
            "Siddharth Hospital : E/10-11, Karmayoga, Market Yard, Behind State Bank of India, Pune, Maharashtra, 411037\n",
            "Gultekadi Nursing Home : 473, 31 B Gultekdi, Salisburry Park, Next to Crescent School, Near Girdhar Bhavan Mangal Karyalay, Pune, Maharashtra, 411037\n",
            "Pune Adventist Hospital : Post Box 1405, Salisbury Park, Market Yard, Pune, Maharashtra, 411037\n",
            "Astha Hospital Pune : BR-77644, Plot No 25c Spine, Pune, Maharashtra, 411019\n",
            "Indumati Manilal Khanna Hospital : Kushaba Jhanjale Road, Indira Nagar, Gultekdi, Pune, Maharashtra, 411037\n",
            "Jeevan Sparsh Eye Hospital : BR-98710, Guruganesh Society, Gangadhamphase-1, Market Yard Kondhwaphase-1, Market Yard Kondhwa,pune,maharashtra,411037, Market Yard, Gultekdi, Pune, Maharashtra, 411037\n",
            "Vinnayak Hospital : Office No 1, 2, 3 Vastushree Complex, Hyde Park, Opposite Market Yard Bus Depot, Pune, Maharashtra, 411037\n",
            "Bhakti Siddhant Hospital : BR-97569, Gat No. 231, Sr. No. 70near Rupinagar Police Chowkitalwade, Pune, Maharashtra, 412114\n",
            "Kamal Nursing Home : Market Yard Road, Pune, Maharashtra, 411037\n",
            "Mono Hospital : Karve Nagar, Bibewadi Road, Pune, Maharashtra, 411037\n"
          ]
        }
      ]
    }
  ]
}